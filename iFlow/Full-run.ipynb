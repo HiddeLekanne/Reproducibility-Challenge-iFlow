{
 "cells": [
  {
   "cell_type": "markdown",
   "id": "nearby-illness",
   "metadata": {},
   "source": [
    "# Main notebook\n",
    "This notebook is able to reproduce all experiments and plots described in the reproducibility paper.\n",
    "\n",
    "### Summary:\n",
    "* ##### [Reproducing models and data for main claims.](#Reproducing-models-and-data-for-main-claims)\n",
    "* ##### [Reproducing models and data for visualization.](#Reproducing-models-and-data-for-visualization)\n",
    "* ##### [Reproducing original plots.](#Reproducing-original-plots)\n",
    "* ##### [Additional visualization.](#Additional-visualization)"
   ]
  },
  {
   "cell_type": "code",
   "execution_count": null,
   "id": "literary-support",
   "metadata": {},
   "outputs": [],
   "source": [
    "import torch\n",
    "import numpy as np\n",
    "import os\n",
    "import matplotlib.pyplot as plt\n",
    "%matplotlib inline\n",
    "from IPython.display import set_matplotlib_formats\n",
    "set_matplotlib_formats('svg', 'pdf') # For export\n",
    "\n",
    "%load_ext autoreload\n",
    "device = \"cuda\" if torch.cuda.is_available() else \"cpu\"\n",
    "IFLOW_FOLDER = 'iFlow_experiment'\n",
    "IVAE_FOLDER = 'iVAE_experiment'\n",
    "iFlow_vis_folder = 'visualization_' + IFLOW_FOLDER\n",
    "iVAE_vis_folder = 'visualization_' + IVAE_FOLDER \n",
    "NUMBER_OF_SEEDS_MAIN = 2\n",
    "NUMBER_OF_SEEDS_VISUALIZATION = 2\n"
   ]
  },
  {
   "cell_type": "markdown",
   "id": "tired-socket",
   "metadata": {},
   "source": [
    "# Reproducing models and data for main claims\n",
    "In the cell below the hyperparameters from theh iFlow paper are used to reproduce the original results. For accurate reproduction you need to run it on a gpu, since the cpu you will get different results.  \n",
    "\n",
    "For information about other paramaters consult the main.py in the iFlow folder by excuting `!python iFlow/main.py -h` in a code cell."
   ]
  },
  {
   "cell_type": "code",
   "execution_count": null,
   "id": "fixed-internet",
   "metadata": {},
   "outputs": [],
   "source": [
    "cuda_flag = '-c' if device == \"cuda\" else \"\"\n",
    "\n",
    "for i in range(1, NUMBER_OF_SEEDS_MAIN + 1):\n",
    "    command_line = '1000_40_5_5_3_{seed}_gauss_xtanh_u_f'.format(seed=i)\n",
    "    !python 'main.py' \\\n",
    "            '-x' {command_line}\\\n",
    "            '-i' 'iFlow' '-ft' 'RQNSF_AG' \\\n",
    "            '-npa' 'Softplus' \\\n",
    "            '-fl' '10' \\\n",
    "            '-lr_df' '0.25' \\\n",
    "            '-lr_pn' '10' \\\n",
    "            '-b' '64' \\\n",
    "            '-e' '20' \\\n",
    "            '-l' '1e-3' \\\n",
    "            '-exp' {IFLOW_FOLDER} \\\n",
    "            {cuda_flag} \\\n",
    "            '-s' '1' \n",
    "\n",
    "for i in range(1, NUMBER_OF_SEEDS_MAIN + 1):\n",
    "    command_line = '1000_40_5_5_3_{seed}_gauss_xtanh_u_f'.format(seed=i)\n",
    "    !python 'main.py' \\\n",
    "            '-x' {command_line}\\\n",
    "            '-i' 'iVAE' \\\n",
    "            '-lr_df' '0.25' \\\n",
    "            '-lr_pn' '10' \\\n",
    "            '-b' '64' \\\n",
    "            '-e' '20' \\\n",
    "            '-l' '1e-3' \\\n",
    "            '-g' '50' \\\n",
    "            '-d' '3' \\\n",
    "            '-exp' {IVAE_FOLDER} \\\n",
    "            {cuda_flag} \\\n",
    "            '-s' '1' \n"
   ]
  },
  {
   "cell_type": "markdown",
   "id": "third-carolina",
   "metadata": {},
   "source": [
    "# Reproducing models and data for visualization\n",
    "In the cell below the data and models are produced used for the visualiation of the latent dimensions. This means that data and the latent dimension are both 2 instead of 5 as this enables us to plot on a 2D graph."
   ]
  },
  {
   "cell_type": "code",
   "execution_count": null,
   "id": "unnecessary-carol",
   "metadata": {},
   "outputs": [],
   "source": [
    "cuda_flag = '-c' if device == \"cuda\" else \"\"\n",
    "\n",
    "for i in range(1, NUMBER_OF_SEEDS_VISUALIZATION + 1):\n",
    "    command_line = '1000_5_2_2_3_{seed}_gauss_xtanh_u_f'.format(seed=i)\n",
    "    !python 'main.py' \\\n",
    "            '-x' {command_line}\\\n",
    "            '-i' 'iFlow' '-ft' 'RQNSF_AG' \\\n",
    "            '-npa' 'Softplus' \\\n",
    "            '-fl' '10' \\\n",
    "            '-lr_df' '0.25' \\\n",
    "            '-lr_pn' '10' \\\n",
    "            '-b' '64' \\\n",
    "            '-e' '20' \\\n",
    "            '-l' '1e-3' \\\n",
    "            '-exp' {iFlow_vis_folder} \\\n",
    "            {cuda_flag} \\\n",
    "            '-s' '1' \n",
    "\n",
    "for i in range(1, NUMBER_OF_SEEDS_VISUALIZATION + 1):\n",
    "    command_line = '1000_5_2_2_3_{seed}_gauss_xtanh_u_f'.format(seed=i)\n",
    "    !python 'main.py' \\\n",
    "            '-x' {command_line}\\\n",
    "            '-i' 'iVAE' '-ft' 'RQNSF_AG' \\\n",
    "            '-lr_df' '0.25' \\\n",
    "            '-lr_pn' '10' \\\n",
    "            '-b' '64' \\\n",
    "            '-e' '20' \\\n",
    "            '-l' '1e-3' \\\n",
    "            '-g' '50' \\\n",
    "            '-d' '3' \\\n",
    "            '-exp' {iVAE_vis_folder} \\\n",
    "            {cuda_flag} \\\n",
    "            '-s' '1' "
   ]
  },
  {
   "cell_type": "markdown",
   "id": "alike-screen",
   "metadata": {},
   "source": [
    "# Reproducing original plots\n"
   ]
  },
  {
   "cell_type": "code",
   "execution_count": null,
   "id": "informative-lending",
   "metadata": {},
   "outputs": [],
   "source": [
    "from plot_mcc import plot_attribute, Experiment_folder\n",
    "%autoreload\n",
    "\n",
    "folder_paths = [IFLOW_FOLDER, IVAE_FOLDER]\n",
    "experiments = [Experiment_folder(path, device) for path in folder_paths]\n",
    "ax = plot_attribute(experiments, \"final_loss\")\n",
    "ax.set_title(\"Log Likelihood\")\n",
    "ax.set_xlabel(\"Seed\")\n",
    "ax.set_ylabel(\"Energy Value\")\n",
    "# plt.savefig('Log Likelihood.png', bbox_inches='tight')\n",
    "plt.show()\n",
    "\n",
    "mcc_ax = plot_attribute(experiments, \"final_performance\")\n",
    "mcc_ax.set_title(\"Mcc Score\")\n",
    "mcc_ax.set_xlabel(\"Seed\")\n",
    "mcc_ax.set_ylabel(\"Mcc\")\n",
    "# plt.savefig('Mcc Score.png', bbox_inches='tight')\n",
    "plt.show()"
   ]
  },
  {
   "cell_type": "code",
   "execution_count": null,
   "id": "unique-circus",
   "metadata": {},
   "outputs": [],
   "source": [
    "from plot_mcc import plot_latent_correlation\n",
    "%autoreload\n",
    "\n",
    "def get_best_model_pairs(iFlow_vis_folder, iVAE_vis_folder):\n",
    "    iFlow_vis_experiments = Experiment_folder(iFlow_vis_folder, device)\n",
    "    iVAE_vis_experiments = Experiment_folder(iVAE_vis_folder, device)\n",
    "\n",
    "    top_iFlow = iFlow_vis_experiments.get_ranked_list(\"final_performance\")[-1]\n",
    "    top_iVAE = iVAE_vis_experiments.get_ranked_list(\"final_performance\")[-1]\n",
    "\n",
    "    best_iFlow_model, best_iFlow_dset = iFlow_vis_experiments.get_model_from_path(top_iFlow[0])\n",
    "    iVAE_model, _ = iVAE_vis_experiments.get_model_from_experiment(top_iFlow)\n",
    "\n",
    "    best_iVAE_model, best_iVAE_dset = iFlow_vis_experiments.get_model_from_path(top_iVAE[0])\n",
    "    iFlow_model, _ = iFlow_vis_experiments.get_model_from_experiment(top_iVAE)\n",
    "    \n",
    "    return (best_iFlow_dset, best_iFlow_model, iVAE_model), (best_iVAE_dset, best_iVAE_model, iFlow_model)\n",
    "\n",
    "comparison_1, comparison_2 = get_best_model_pairs(IFLOW_FOLDER, IVAE_FOLDER)\n",
    "plot_latent_correlation(comparison_1[0], comparison_1[1], 40, 453)\n",
    "plot_latent_correlation(comparison_1[0], comparison_1[2], 40, 453)\n",
    "\n",
    "\n",
    "plot_latent_correlation(comparison_2[0], comparison_2[1], 40, 17930)\n",
    "plot_latent_correlation(comparison_2[0], comparison_2[2], 40, 17930)"
   ]
  },
  {
   "cell_type": "code",
   "execution_count": null,
   "id": "extraordinary-church",
   "metadata": {},
   "outputs": [],
   "source": [
    "from plot_mcc import create_2D_performance_plot\n",
    "%autoreload\n",
    "comparison_1, comparison_2 = get_best_model_pairs(iFlow_vis_folder, iVAE_vis_folder)\n",
    "\n",
    "\n",
    "# create_2D_performance_plot(comparison_1[0], comparison_1[2], comparison_1[1])"
   ]
  },
  {
   "cell_type": "markdown",
   "id": "constant-capitol",
   "metadata": {},
   "source": [
    "# Additional visualization"
   ]
  },
  {
   "cell_type": "code",
   "execution_count": null,
   "id": "systematic-black",
   "metadata": {},
   "outputs": [],
   "source": [
    "from plot_mcc import *\n",
    "%autoreload\n",
    "\n",
    "for experiment in experiments:\n",
    "    experiment.get_final_attribute(\"dataset_difficulty\")\n",
    "\n",
    "mcc_ax = plot_attribute(experiments, \"final_performance\")\n",
    "ax = plot_attribute(experiments, \"dataset_difficulty\", mcc_ax)\n",
    "plt.show()"
   ]
  }
 ],
 "metadata": {
  "kernelspec": {
   "display_name": "Python 3",
   "language": "python",
   "name": "python3"
  },
  "language_info": {
   "codemirror_mode": {
    "name": "ipython",
    "version": 3
   },
   "file_extension": ".py",
   "mimetype": "text/x-python",
   "name": "python",
   "nbconvert_exporter": "python",
   "pygments_lexer": "ipython3",
   "version": "3.7.9"
  }
 },
 "nbformat": 4,
 "nbformat_minor": 5
}
