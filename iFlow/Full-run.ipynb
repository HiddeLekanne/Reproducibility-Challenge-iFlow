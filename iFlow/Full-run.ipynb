{
 "cells": [
  {
   "cell_type": "markdown",
   "id": "incoming-child",
   "metadata": {},
   "source": [
    "# Main notebook\n",
    "This notebook is able to reproduce all experiments and plots described in the reproducibility paper.\n",
    "\n",
    "### Summary:\n",
    "* ##### [Reproducing models and data for main claims.](#Reproducing-models-and-data-for-main-claims)\n",
    "* ##### [Reproducing models and data for visualization.](#Reproducing-models-and-data-for-visualization)\n",
    "* ##### [Reproducing original plots.](#Reproducing-original-plots)\n",
    "* ##### Additional visualization"
   ]
  },
  {
   "cell_type": "code",
   "execution_count": 32,
   "id": "photographic-closing",
   "metadata": {},
   "outputs": [
    {
     "name": "stdout",
     "output_type": "stream",
     "text": [
      "The autoreload extension is already loaded. To reload it, use:\n",
      "  %reload_ext autoreload\n"
     ]
    }
   ],
   "source": [
    "import torch\n",
    "import os\n",
    "\n",
    "%load_ext autoreload\n",
    "device = \"cuda\" if torch.cuda.is_available() else \"cpu\"\n",
    "IFLOW_FOLDER = 'iFlow_experiment'\n",
    "IVAE_FOLDER = 'iVAE_experiment'\n",
    "NUMBER_OF_SEEDS_MAIN = 2\n",
    "NUMBER_OF_SEEDS_VISUALIZATION = 5\n"
   ]
  },
  {
   "cell_type": "markdown",
   "id": "collective-colorado",
   "metadata": {},
   "source": [
    "# Reproducing models and data for main claims\n",
    "In the cell below the hyperparameters from theh iFlow paper are used to reproduce the original results. For accurate reproduction you need to run it on a gpu, since the cpu you will get different results.  \n",
    "\n",
    "For information about other paramaters consult the main.py in the iFlow folder by excuting `!python iFlow/main.py -h` in a code cell."
   ]
  },
  {
   "cell_type": "code",
   "execution_count": null,
   "id": "alpha-contact",
   "metadata": {},
   "outputs": [
    {
     "name": "stdout",
     "output_type": "stream",
     "text": [
      "Namespace(anneal=False, batch_size=64, cuda=False, data_args='1000_40_5_5_3_1_gauss_xtanh_u_f', depth=3, epochs=20, experiments_folder='iFlow_experiment', file=None, flow_length=10, flow_type='RQNSF_AG', gpu_id='0', hidden_dim=50, i_what='iFlow', latent_dim=None, log_freq=25, lr=0.001, lr_drop_factor=0.25, lr_patience=10, max_iter=None, nat_param_act='Softplus', no_log=False, num_bins=8, preload=False, seed=1)\n",
      "training on cpu\n",
      "data loaded on cpu\n",
      "setup time: 0.08899188041687012s\n",
      "Beginning training for exp: 1\n",
      ".. checkpoint at iteration 0 ..\n",
      "^C\n",
      "Traceback (most recent call last):\n",
      "  File \"main.py\", line 182, in <module>\n",
      "    optimizer.step()\n",
      "  File \"/home/hidde/miniconda3/envs/iFlow/lib/python3.7/site-packages/torch/autograd/grad_mode.py\", line 15, in decorate_context\n",
      "    return func(*args, **kwargs)\n",
      "  File \"/home/hidde/miniconda3/envs/iFlow/lib/python3.7/site-packages/torch/optim/adam.py\", line 100, in step\n",
      "    exp_avg_sq.mul_(beta2).addcmul_(grad, grad, value=1 - beta2)\n",
      "KeyboardInterrupt\n",
      "Namespace(anneal=False, batch_size=64, cuda=False, data_args='1000_40_5_5_3_2_gauss_xtanh_u_f', depth=3, epochs=20, experiments_folder='iFlow_experiment', file=None, flow_length=10, flow_type='RQNSF_AG', gpu_id='0', hidden_dim=50, i_what='iFlow', latent_dim=None, log_freq=25, lr=0.001, lr_drop_factor=0.25, lr_patience=10, max_iter=None, nat_param_act='Softplus', no_log=False, num_bins=8, preload=False, seed=1)\n",
      "training on cpu\n",
      "data loaded on cpu\n",
      "setup time: 0.09491395950317383s\n",
      "Beginning training for exp: 1\n",
      ".. checkpoint at iteration 0 ..\n",
      "epoch 1: 73.4458s;\tloss: -4.2983 (l1: 3.3655, l2: -1.4791, l3: -6.1847);\tperf: 0.6582\n"
     ]
    }
   ],
   "source": [
    "cuda_flag = '-c' if device == \"cuda\" else \"\"\n",
    "\n",
    "for i in range(1, NUMBER_OF_SEEDS_MAIN + 1):\n",
    "    command_line = '1000_40_5_5_3_{seed}_gauss_xtanh_u_f'.format(seed=i)\n",
    "    !python 'main.py' \\\n",
    "            '-x' {command_line}\\\n",
    "            '-i' 'iFlow' '-ft' 'RQNSF_AG' \\\n",
    "            '-npa' 'Softplus' \\\n",
    "            '-fl' '10' \\\n",
    "            '-lr_df' '0.25' \\\n",
    "            '-lr_pn' '10' \\\n",
    "            '-b' '64' \\\n",
    "            '-e' '20' \\\n",
    "            '-l' '1e-3' \\\n",
    "            '-exp' {IFLOW_FOLDER} \\\n",
    "            {cuda_flag} \\\n",
    "            '-s' '1' \n",
    "\n",
    "for i in range(1, NUMBER_OF_SEEDS_MAIN + 1):\n",
    "    command_line = '1000_40_5_5_3_{seed}_gauss_xtanh_u_f'.format(seed=i)\n",
    "    !python 'main.py' \\\n",
    "            '-x' {command_line}\\\n",
    "            '-i' 'iVAE' \\\n",
    "            '-lr_df' '0.25' \\\n",
    "            '-lr_pn' '10' \\\n",
    "            '-b' '64' \\\n",
    "            '-e' '20' \\\n",
    "            '-l' '1e-3' \\\n",
    "            '-g' '50' \\\n",
    "            '-d' '3' \\\n",
    "            '-exp' {IVAE_FOLDER} \\\n",
    "            {cuda_flag} \\\n",
    "            '-s' '1' \n"
   ]
  },
  {
   "cell_type": "markdown",
   "id": "explicit-institute",
   "metadata": {},
   "source": [
    "# Reproducing models and data for visualization\n",
    "In the cell below the data and models are produced used for the visualiation of the latent dimensions. This means that data and the latent dimension are both 2 instead of 5 as this enables us to plot on a 2D graph."
   ]
  },
  {
   "cell_type": "code",
   "execution_count": null,
   "id": "first-rebecca",
   "metadata": {},
   "outputs": [],
   "source": [
    "cuda_flag = '-c' if device == \"cuda\" else \"\"\n",
    "\n",
    "for i in range(1, NUMBER_OF_SEEDS_VISUALIZATION + 1):\n",
    "    command_line = '1000_5_2_2_3_{seed}_gauss_xtanh_u_f'.format(seed=i)\n",
    "    !python 'iFlow/main.py' \\\n",
    "            '-x' {command_line}\\\n",
    "            '-i' 'iFlow' '-ft' 'RQNSF_AG' \\\n",
    "            '-npa' 'Softplus' \\\n",
    "            '-fl' '10' \\\n",
    "            '-lr_df' '0.25' \\\n",
    "            '-lr_pn' '10' \\\n",
    "            '-b' '64' \\\n",
    "            '-e' '20' \\\n",
    "            '-l' '1e-3' \\\n",
    "            '-exp' {IFLOW_FOLDER} \\\n",
    "            {cuda_flag} \\\n",
    "            '-s' '1' \n",
    "\n",
    "for i in range(1, NUMBER_OF_SEEDS_VISUALIZATION + 1):\n",
    "    command_line = '1000_5_2_2_3_{seed}_gauss_xtanh_u_f'.format(seed=i)\n",
    "    !python 'iFlow/main.py' \\\n",
    "            '-x' {command_line}\\\n",
    "            '-i' 'iVAE' '-ft' 'RQNSF_AG' \\\n",
    "            '-lr_df' '0.25' \\\n",
    "            '-lr_pn' '10' \\\n",
    "            '-b' '64' \\\n",
    "            '-e' '20' \\\n",
    "            '-l' '1e-3' \\\n",
    "            '-g' '50' \\\n",
    "            '-d' '3' \\\n",
    "            '-exp' {IVAE_FOLDER} \\\n",
    "            '-s' '1' "
   ]
  },
  {
   "cell_type": "markdown",
   "id": "opening-georgia",
   "metadata": {},
   "source": [
    "# Reproducing original plots\n"
   ]
  },
  {
   "cell_type": "code",
   "execution_count": 31,
   "id": "suspended-threshold",
   "metadata": {},
   "outputs": [
    {
     "name": "stdout",
     "output_type": "stream",
     "text": [
      "['intermdiate_results/iFlow_experiment_mcc.npy', 'intermdiate_results/iVAE_experiment_mcc.npy']\n",
      "[None]\n",
      "[2. 1.]\n",
      "[2. 1.]\n"
     ]
    },
    {
     "data": {
      "image/png": "[encoded data removed]",
      "text/plain": [
       "<Figure size 432x288 with 1 Axes>"
      ]
     },
     "metadata": {
      "needs_background": "light"
     },
     "output_type": "display_data"
    }
   ],
   "source": [
    "import importlib\n",
    "%autoreload\n",
    "\n",
    "from plot_mcc import plot_experiments\n",
    "\n",
    "SAVE_INTERMEDIATE_RESULTS_FOLDER= \"intermdiate_results\"\n",
    "RESULT_NAMES = [IFLOW_FOLDER + \"_mcc.npy\", IVAE_FOLDER + \"_mcc.npy\"]\n",
    "LOAD_FILE_IF_POSSIBLE=True\n",
    "\n",
    "if not os.path.exists(SAVE_INTERMEDIATE_RESULTS_FOLDER):\n",
    "    os.makedirs(SAVE_INTERMEDIATE_RESULTS_FOLDER)\n",
    "\n",
    "result_files = [SAVE_INTERMEDIATE_RESULTS_FOLDER + \"/\" + name for name in RESULT_NAMES]\n",
    "load_files = [file if os.path.isfile(file) else None for file in result_files]\n",
    "\n",
    "if LOAD_FILE_IF_POSSIBLE and all(load_files):\n",
    "    dirs = [None]\n",
    "else:\n",
    "    dirs = [IFLOW_FOLDER, IVAE_FOLDER]\n",
    "    load_files = [None]\n",
    "\n",
    "    \n",
    "print(load_files)\n",
    "print(dirs)\n",
    "\n",
    "args = {\"dirs\":dirs,\n",
    "        \"load_files\":load_files,\n",
    "        \"device\":device,\n",
    "         \"n_samples\":50,\n",
    "         \"save_files\":result_files\n",
    "          }\n",
    "\n",
    "\n",
    "plot_experiments(args)\n"
   ]
  },
  {
   "cell_type": "code",
   "execution_count": null,
   "id": "sonic-future",
   "metadata": {},
   "outputs": [],
   "source": [
    "import plot_correlation\n"
   ]
  },
  {
   "cell_type": "code",
   "execution_count": null,
   "id": "specified-return",
   "metadata": {},
   "outputs": [],
   "source": [
    "import plot_dataset_difficulty"
   ]
  }
 ],
 "metadata": {
  "kernelspec": {
   "display_name": "Python 3",
   "language": "python",
   "name": "python3"
  },
  "language_info": {
   "codemirror_mode": {
    "name": "ipython",
    "version": 3
   },
   "file_extension": ".py",
   "mimetype": "text/x-python",
   "name": "python",
   "nbconvert_exporter": "python",
   "pygments_lexer": "ipython3",
   "version": "3.7.9"
  }
 },
 "nbformat": 4,
 "nbformat_minor": 5
}
