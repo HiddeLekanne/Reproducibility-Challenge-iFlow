{
 "cells": [
  {
   "cell_type": "markdown",
   "id": "dying-undergraduate",
   "metadata": {},
   "source": [
    "# Main notebook\n",
    "This notebook is able to reproduce all experiments and plots described in the reproducibility paper.\n",
    "\n",
    "### Summary:\n",
    "* ##### [Reproducing models and data for main claims.](#Reproducing-models-and-data-for-main-claims)\n",
    "* ##### [Reproducing models and data for visualization.](#Reproducing-models-and-data-for-visualization)\n",
    "* ##### [Reproducing original plots.](#Reproducing-original-plots)\n",
    "* ##### Additional visualization"
   ]
  },
  {
   "cell_type": "code",
   "execution_count": null,
   "id": "verbal-manchester",
   "metadata": {},
   "outputs": [],
   "source": [
    "import torch\n",
    "import numpy as np\n",
    "import os\n",
    "\n",
    "%load_ext autoreload\n",
    "device = \"cuda\" if torch.cuda.is_available() else \"cpu\"\n",
    "IFLOW_FOLDER = 'iFlow_experiment'\n",
    "IVAE_FOLDER = 'iVAE_experiment'\n",
    "NUMBER_OF_SEEDS_MAIN = 2\n",
    "NUMBER_OF_SEEDS_VISUALIZATION = 2\n"
   ]
  },
  {
   "cell_type": "markdown",
   "id": "subjective-indiana",
   "metadata": {},
   "source": [
    "# Reproducing models and data for main claims\n",
    "In the cell below the hyperparameters from theh iFlow paper are used to reproduce the original results. For accurate reproduction you need to run it on a gpu, since the cpu you will get different results.  \n",
    "\n",
    "For information about other paramaters consult the main.py in the iFlow folder by excuting `!python iFlow/main.py -h` in a code cell."
   ]
  },
  {
   "cell_type": "code",
   "execution_count": null,
   "id": "incorporated-contrast",
   "metadata": {},
   "outputs": [],
   "source": [
    "cuda_flag = '-c' if device == \"cuda\" else \"\"\n",
    "\n",
    "for i in range(1, NUMBER_OF_SEEDS_MAIN + 1):\n",
    "    command_line = '1000_40_5_5_3_{seed}_gauss_xtanh_u_f'.format(seed=i)\n",
    "    !python 'main.py' \\\n",
    "            '-x' {command_line}\\\n",
    "            '-i' 'iFlow' '-ft' 'RQNSF_AG' \\\n",
    "            '-npa' 'Softplus' \\\n",
    "            '-fl' '10' \\\n",
    "            '-lr_df' '0.25' \\\n",
    "            '-lr_pn' '10' \\\n",
    "            '-b' '64' \\\n",
    "            '-e' '20' \\\n",
    "            '-l' '1e-3' \\\n",
    "            '-exp' {IFLOW_FOLDER} \\\n",
    "            {cuda_flag} \\\n",
    "            '-s' '1' \n",
    "\n",
    "for i in range(1, NUMBER_OF_SEEDS_MAIN + 1):\n",
    "    command_line = '1000_40_5_5_3_{seed}_gauss_xtanh_u_f'.format(seed=i)\n",
    "    !python 'main.py' \\\n",
    "            '-x' {command_line}\\\n",
    "            '-i' 'iVAE' \\\n",
    "            '-lr_df' '0.25' \\\n",
    "            '-lr_pn' '10' \\\n",
    "            '-b' '64' \\\n",
    "            '-e' '20' \\\n",
    "            '-l' '1e-3' \\\n",
    "            '-g' '50' \\\n",
    "            '-d' '3' \\\n",
    "            '-exp' {IVAE_FOLDER} \\\n",
    "            {cuda_flag} \\\n",
    "            '-s' '1' \n"
   ]
  },
  {
   "cell_type": "markdown",
   "id": "aggressive-hotel",
   "metadata": {},
   "source": [
    "# Reproducing models and data for visualization\n",
    "In the cell below the data and models are produced used for the visualiation of the latent dimensions. This means that data and the latent dimension are both 2 instead of 5 as this enables us to plot on a 2D graph."
   ]
  },
  {
   "cell_type": "code",
   "execution_count": null,
   "id": "lightweight-young",
   "metadata": {},
   "outputs": [],
   "source": [
    "cuda_flag = '-c' if device == \"cuda\" else \"\"\n",
    "iFlow_vis_folder = 'visualization_' + IFLOW_FOLDER\n",
    "iVAE_vis_folder = 'visualization_' + IVAE_FOLDER \n",
    "\n",
    "\n",
    "for i in range(1, NUMBER_OF_SEEDS_VISUALIZATION + 1):\n",
    "    command_line = '1000_5_2_2_3_{seed}_gauss_xtanh_u_f'.format(seed=i)\n",
    "    !python 'main.py' \\\n",
    "            '-x' {command_line}\\\n",
    "            '-i' 'iFlow' '-ft' 'RQNSF_AG' \\\n",
    "            '-npa' 'Softplus' \\\n",
    "            '-fl' '10' \\\n",
    "            '-lr_df' '0.25' \\\n",
    "            '-lr_pn' '10' \\\n",
    "            '-b' '64' \\\n",
    "            '-e' '20' \\\n",
    "            '-l' '1e-3' \\\n",
    "            '-exp' {iFlow_vis_folder} \\\n",
    "            {cuda_flag} \\\n",
    "            '-s' '1' \n",
    "\n",
    "for i in range(1, NUMBER_OF_SEEDS_VISUALIZATION + 1):\n",
    "    command_line = '1000_5_2_2_3_{seed}_gauss_xtanh_u_f'.format(seed=i)\n",
    "    !python 'main.py' \\\n",
    "            '-x' {command_line}\\\n",
    "            '-i' 'iVAE' '-ft' 'RQNSF_AG' \\\n",
    "            '-lr_df' '0.25' \\\n",
    "            '-lr_pn' '10' \\\n",
    "            '-b' '64' \\\n",
    "            '-e' '20' \\\n",
    "            '-l' '1e-3' \\\n",
    "            '-g' '50' \\\n",
    "            '-d' '3' \\\n",
    "            '-exp' {iVAE_vis_folder} \\\n",
    "            '-s' '1' "
   ]
  },
  {
   "cell_type": "markdown",
   "id": "moral-stockholm",
   "metadata": {},
   "source": [
    "# Reproducing original plots\n"
   ]
  },
  {
   "cell_type": "code",
   "execution_count": null,
   "id": "attended-darkness",
   "metadata": {},
   "outputs": [],
   "source": [
    "from plot_mcc import plot_mcc, Experiment_folder\n",
    "%autoreload\n",
    "\n",
    "folder_paths = [IFLOW_FOLDER, IVAE_FOLDER]\n",
    "experiments = [Experiment_folder(path, device) for path in folder_paths]\n",
    "\n",
    "plot_mcc(experiments)"
   ]
  },
  {
   "cell_type": "code",
   "execution_count": null,
   "id": "elect-pizza",
   "metadata": {},
   "outputs": [],
   "source": [
    "from plot_correlation\n",
    "%autoreload\n",
    "\n",
    "top_iFlow_seed = np.argmax(scores[load_files[0]][0])\n",
    "top_iVAE_seed = np.argmax(scores[load_files[1]][0])\n",
    "\n",
    "\n",
    "model, dset, _ = model_and_data_from_log(args.dir, args.device)\n",
    "model.eval()\n",
    "plot_latent_correlation(dset, model, args.n_samples, args.sample_offset)\n",
    "\n",
    "print(top_iFlow_seed)\n",
    "print(top_iVAE_seed)\n"
   ]
  },
  {
   "cell_type": "code",
   "execution_count": null,
   "id": "rubber-distribution",
   "metadata": {},
   "outputs": [],
   "source": [
    "import plot_dataset_difficulty"
   ]
  }
 ],
 "metadata": {
  "kernelspec": {
   "display_name": "Python 3",
   "language": "python",
   "name": "python3"
  },
  "language_info": {
   "codemirror_mode": {
    "name": "ipython",
    "version": 3
   },
   "file_extension": ".py",
   "mimetype": "text/x-python",
   "name": "python",
   "nbconvert_exporter": "python",
   "pygments_lexer": "ipython3",
   "version": "3.7.9"
  }
 },
 "nbformat": 4,
 "nbformat_minor": 5
}
