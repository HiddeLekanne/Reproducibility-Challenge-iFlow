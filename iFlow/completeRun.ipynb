{
 "cells": [
  {
   "cell_type": "markdown",
   "id": "confused-doctor",
   "metadata": {},
   "source": [
    "# Main notebook\n",
    "This notebook is able to reproduce all experiments and plots described in the reproducibility paper. The repository comes with some data and models precomputed in that case, one can simply go to the plotting section. The number of seeds can be adjusted below for small tests.\n",
    "\n",
    "### Summary:\n",
    "* ##### [Reproducing models and data for main claims.](#Reproducing-models-and-data-for-main-claims)\n",
    "* ##### [Reproducing models and data for visualization.](#Reproducing-models-and-data-for-visualization)\n",
    "* ##### [Reproducing original plots.](#Reproducing-original-plots)\n",
    "* ##### [Additional visualization.](#Additional-visualization)\n",
    "\n",
    "\n",
    "### Don't \"run all\" this notebook unless you're willing to wait ~6 days."
   ]
  },
  {
   "cell_type": "code",
   "execution_count": null,
   "id": "invisible-harmony",
   "metadata": {},
   "outputs": [],
   "source": [
    "import torch\n",
    "import numpy as np\n",
    "import os\n",
    "import matplotlib.pyplot as plt\n",
    "%matplotlib inline\n",
    "from IPython.display import set_matplotlib_formats\n",
    "set_matplotlib_formats('svg', 'pdf') # For export\n",
    "\n",
    "%load_ext autoreload\n",
    "device = \"cuda\" if torch.cuda.is_available() else \"cpu\"\n",
    "IFLOW_FOLDER = 'iFlow_experiment'\n",
    "IVAE_FOLDER = 'iVAE_experiment'\n",
    "IVAE_FIXED_FOLDER = 'iVAE-fixed_experiment'\n",
    "\n",
    "iFlow_vis_folder = 'visualization_' + IFLOW_FOLDER\n",
    "iVAE_vis_folder = 'visualization_' + IVAE_FOLDER \n",
    "iVAE_FIXED_vis_folder = 'visualization_' + IVAE_FIXED_FOLDER \n",
    "\n",
    "NUMBER_OF_SEEDS_MAIN = 100\n",
    "NUMBER_OF_SEEDS_VISUALIZATION = 100"
   ]
  },
  {
   "cell_type": "code",
   "execution_count": null,
   "id": "higher-aviation",
   "metadata": {},
   "outputs": [],
   "source": [
    "cuda_flag = '-c' if device == \"cuda\" else \"\""
   ]
  },
  {
   "cell_type": "markdown",
   "id": "martial-dividend",
   "metadata": {},
   "source": [
    "# Reproducing models and data for main claims\n",
    "In the cells below the hyperparameters from the iFlow paper are used to reproduce the original results. For accurate reproduction you need to run it on a gpu, since the cpu you will get different results.  \n",
    "\n",
    "For information about other paramaters consult the main.py in the iFlow folder by excuting `!python iFlow/main.py -h` in a code cell."
   ]
  },
  {
   "cell_type": "markdown",
   "id": "southeast-outdoors",
   "metadata": {},
   "source": [
    "### iFlow"
   ]
  },
  {
   "cell_type": "code",
   "execution_count": null,
   "id": "defined-animation",
   "metadata": {},
   "outputs": [],
   "source": [
    "for i in range(1, NUMBER_OF_SEEDS_MAIN + 1):\n",
    "    command_line = '1000_40_5_5_3_{seed}_gauss_xtanh_u_f'.format(seed=i)\n",
    "    !python 'main.py' \\\n",
    "            '-x' {command_line}\\\n",
    "            '-i' 'iFlow' '-ft' 'RQNSF_AG' \\\n",
    "            '-npa' 'Softplus' \\\n",
    "            '-fl' '10' \\\n",
    "            '-lr_df' '0.25' \\\n",
    "            '-lr_pn' '10' \\\n",
    "            '-b' '64' \\\n",
    "            '-e' '20' \\\n",
    "            '-l' '1e-3' \\\n",
    "            '-exp' {IFLOW_FOLDER} \\\n",
    "            {cuda_flag} \\\n",
    "            '-s' '1' "
   ]
  },
  {
   "cell_type": "markdown",
   "id": "illegal-mediterranean",
   "metadata": {},
   "source": [
    "### iVAE"
   ]
  },
  {
   "cell_type": "code",
   "execution_count": null,
   "id": "existing-session",
   "metadata": {},
   "outputs": [],
   "source": [
    "for i in range(1, NUMBER_OF_SEEDS_MAIN + 1):\n",
    "    command_line = '1000_40_5_5_3_{seed}_gauss_xtanh_u_f'.format(seed=i)\n",
    "    !python 'main.py' \\\n",
    "            '-x' {command_line}\\\n",
    "            '-i' 'iVAE' \\\n",
    "            '-lr_df' '0.25' \\\n",
    "            '-lr_pn' '10' \\\n",
    "            '-b' '64' \\\n",
    "            '-e' '20' \\\n",
    "            '-l' '1e-3' \\\n",
    "            '-g' '50' \\\n",
    "            '-d' '3' \\\n",
    "            '-exp' {IVAE_FOLDER} \\\n",
    "            {cuda_flag} \\\n",
    "            '-s' '1' "
   ]
  },
  {
   "cell_type": "markdown",
   "id": "super-court",
   "metadata": {},
   "source": [
    "### iVAE fixed"
   ]
  },
  {
   "cell_type": "code",
   "execution_count": null,
   "id": "acknowledged-lodge",
   "metadata": {},
   "outputs": [],
   "source": [
    "for i in range(1, NUMBER_OF_SEEDS_MAIN + 1):\n",
    "    command_line = '1000_40_5_5_3_{seed}_gauss_xtanh_u_f'.format(seed=i)\n",
    "    !python 'main.py' \\\n",
    "            '-x' {command_line}\\\n",
    "            '-i' 'iVAE' \\\n",
    "            '-lr_df' '0.25' \\\n",
    "            '-lr_pn' '10' \\\n",
    "            '-b' '64' \\\n",
    "            '-e' '20' \\\n",
    "            '-l' '1e-3' \\\n",
    "            '-g' '50' \\\n",
    "            '-d' '3' \\\n",
    "            '-exp' {IVAE_FIXED_FOLDER} \\\n",
    "            {cuda_flag} \\\n",
    "            '-s' '1' \\\n",
    "            '-tm'"
   ]
  },
  {
   "cell_type": "markdown",
   "id": "civil-manitoba",
   "metadata": {},
   "source": [
    "# Reproducing models and data for visualization\n",
    "In the cells below, the data and models are produced used for the visualisation of the latent dimensions. This means that the data and latent dimension are both 2 instead of 5 as this enables us to plot on a 2D graph."
   ]
  },
  {
   "cell_type": "markdown",
   "id": "delayed-ethics",
   "metadata": {},
   "source": [
    "### iFlow"
   ]
  },
  {
   "cell_type": "code",
   "execution_count": null,
   "id": "round-relations",
   "metadata": {},
   "outputs": [],
   "source": [
    "for i in range(1, NUMBER_OF_SEEDS_VISUALIZATION + 1):\n",
    "    command_line = '1000_5_2_2_3_{seed}_gauss_xtanh_u_f'.format(seed=i)\n",
    "    !python 'main.py' \\\n",
    "            '-x' {command_line}\\\n",
    "            '-i' 'iFlow' '-ft' 'RQNSF_AG' \\\n",
    "            '-npa' 'Softplus' \\\n",
    "            '-fl' '10' \\\n",
    "            '-lr_df' '0.25' \\\n",
    "            '-lr_pn' '10' \\\n",
    "            '-b' '64' \\\n",
    "            '-e' '20' \\\n",
    "            '-l' '1e-3' \\\n",
    "            '-exp' {iFlow_vis_folder} \\\n",
    "            {cuda_flag} \\\n",
    "            '-s' '1' \n"
   ]
  },
  {
   "cell_type": "markdown",
   "id": "unable-powell",
   "metadata": {},
   "source": [
    "### iVAE"
   ]
  },
  {
   "cell_type": "code",
   "execution_count": null,
   "id": "correct-vault",
   "metadata": {},
   "outputs": [],
   "source": [
    "for i in range(1, NUMBER_OF_SEEDS_VISUALIZATION + 1):\n",
    "    command_line = '1000_5_2_2_3_{seed}_gauss_xtanh_u_f'.format(seed=i)\n",
    "    !python 'main.py' \\\n",
    "            '-x' {command_line}\\\n",
    "            '-i' 'iVAE' '-ft' 'RQNSF_AG' \\\n",
    "            '-lr_df' '0.25' \\\n",
    "            '-lr_pn' '10' \\\n",
    "            '-b' '64' \\\n",
    "            '-e' '20' \\\n",
    "            '-l' '1e-3' \\\n",
    "            '-g' '50' \\\n",
    "            '-d' '3' \\\n",
    "            '-exp' {iVAE_vis_folder} \\\n",
    "            {cuda_flag} \\\n",
    "            '-s' '1' "
   ]
  },
  {
   "cell_type": "markdown",
   "id": "urban-punishment",
   "metadata": {},
   "source": [
    "### iVAE fixed"
   ]
  },
  {
   "cell_type": "code",
   "execution_count": null,
   "id": "focused-florist",
   "metadata": {},
   "outputs": [],
   "source": [
    "for i in range(1, NUMBER_OF_SEEDS_VISUALIZATION + 1):\n",
    "    command_line = '1000_5_2_2_3_{seed}_gauss_xtanh_u_f'.format(seed=i)\n",
    "    !python 'main.py' \\\n",
    "            '-x' {command_line}\\\n",
    "            '-i' 'iVAE' '-ft' 'RQNSF_AG' \\\n",
    "            '-lr_df' '0.25' \\\n",
    "            '-lr_pn' '10' \\\n",
    "            '-b' '64' \\\n",
    "            '-e' '20' \\\n",
    "            '-l' '1e-3' \\\n",
    "            '-g' '50' \\\n",
    "            '-d' '3' \\\n",
    "            '-exp' {iVAE_FIXED_vis_folder} \\\n",
    "            {cuda_flag} \\\n",
    "            '-s' '1' \\\n",
    "            '-tm'"
   ]
  },
  {
   "cell_type": "markdown",
   "id": "romantic-marketing",
   "metadata": {},
   "source": [
    "# Reproducing original plots\n"
   ]
  },
  {
   "cell_type": "code",
   "execution_count": null,
   "id": "numerical-heater",
   "metadata": {},
   "outputs": [],
   "source": [
    "from plots import plot_attribute, Experiment_folder\n",
    "\n",
    "# folder_paths = [IFLOW_FOLDER, IVAE_FOLDER]\n",
    "folder_paths = [IFLOW_FOLDER, IVAE_FIXED_FOLDER, IVAE_FOLDER]\n",
    "experiments = [Experiment_folder(path, device) for path in folder_paths]\n",
    "ax, data = plot_attribute(experiments, \"final_loss\")\n",
    "ax.set_title(\"Log Likelihood\")\n",
    "ax.set_xlabel(\"Seed\")\n",
    "ax.set_ylabel(\"Energy Value\")\n",
    "plt.show()\n",
    "\n",
    "mcc_ax, data = plot_attribute(experiments, \"final_performance\")\n",
    "mcc_ax.set_title(\"Mcc Score\")\n",
    "mcc_ax.set_xlabel(\"Seed\")\n",
    "mcc_ax.set_ylabel(\"Mcc\")\n",
    "plt.show()\n",
    "\n",
    "fig = plt.figure()\n",
    "ax = fig.add_axes([0,0,1,1])\n",
    "\n",
    "colors = (\"blue\", \"orange\" , \"green\")\n",
    "\n",
    "parts = ax.violinplot(data[1], positions=None, vert=True, widths=0.5, showmeans=True, showextrema=True, showmedians=False, quantiles=None, points=100)\n",
    "for i, pc in enumerate(parts['bodies']):\n",
    "    pc.set_facecolor(colors[i])\n",
    "    pc.set_edgecolor('black')\n",
    "    pc.set_alpha(1)\n",
    "\n",
    "    \n",
    "ax.set_xticks(np.arange(1, len(folder_paths) + 1))\n",
    "ax.set_xticklabels(folder_paths)"
   ]
  },
  {
   "cell_type": "markdown",
   "id": "hybrid-accused",
   "metadata": {},
   "source": [
    "### Plot latent correlation for iFlow - iVAE"
   ]
  },
  {
   "cell_type": "code",
   "execution_count": null,
   "id": "viral-thumbnail",
   "metadata": {},
   "outputs": [],
   "source": [
    "from plots import plot_latent_correlation\n",
    "\n",
    "def get_best_model_pairs(iFlow_vis_folder, iVAE_vis_folder):\n",
    "    iFlow_vis_experiments = Experiment_folder(iFlow_vis_folder, device)\n",
    "    iVAE_vis_experiments = Experiment_folder(iVAE_vis_folder, device)\n",
    "\n",
    "    top_iFlow = iFlow_vis_experiments.get_ranked_list(\"final_performance\")[-1]\n",
    "    top_iVAE = iVAE_vis_experiments.get_ranked_list(\"final_performance\")[-1]\n",
    "\n",
    "    best_iFlow_model, best_iFlow_dset = iFlow_vis_experiments.get_model_from_path(top_iFlow[0])\n",
    "    iVAE_model, _ = iVAE_vis_experiments.get_model_from_experiment(top_iFlow)\n",
    "\n",
    "    best_iVAE_model, best_iVAE_dset = iFlow_vis_experiments.get_model_from_path(top_iVAE[0])\n",
    "    iFlow_model, _ = iFlow_vis_experiments.get_model_from_experiment(top_iVAE)\n",
    "    \n",
    "    return (best_iFlow_dset, best_iFlow_model, iVAE_model), (best_iVAE_dset, best_iVAE_model, iFlow_model)"
   ]
  },
  {
   "cell_type": "code",
   "execution_count": null,
   "id": "prospective-south",
   "metadata": {},
   "outputs": [],
   "source": [
    "comparison_1, comparison_2 = get_best_model_pairs(IFLOW_FOLDER, IVAE_FOLDER)\n",
    "plot_latent_correlation(comparison_1[0], comparison_1[1], 40, 453)\n",
    "plot_latent_correlation(comparison_1[0], comparison_1[2], 40, 453)\n",
    "\n",
    "\n",
    "plot_latent_correlation(comparison_2[0], comparison_2[1], 40, 17930)\n",
    "plot_latent_correlation(comparison_2[0], comparison_2[2], 40, 17930)"
   ]
  },
  {
   "cell_type": "markdown",
   "id": "possible-manufacturer",
   "metadata": {},
   "source": [
    "### Plot latent correlation for iFlow - fixed iVAE"
   ]
  },
  {
   "cell_type": "code",
   "execution_count": null,
   "id": "alpha-barcelona",
   "metadata": {},
   "outputs": [],
   "source": [
    "from plots import plot_attribute, Experiment_folder\n",
    "\n",
    "comparison_1, comparison_2 = get_best_model_pairs(IFLOW_FOLDER, IVAE_FIXED_FOLDER)\n",
    "plot_latent_correlation(comparison_1[0], comparison_1[1], 40, 453)\n",
    "plot_latent_correlation(comparison_1[0], comparison_1[2], 40, 453)\n",
    "\n",
    "\n",
    "plot_latent_correlation(comparison_2[0], comparison_2[1], 40, 17930)\n",
    "plot_latent_correlation(comparison_2[0], comparison_2[2], 40, 17930)"
   ]
  },
  {
   "cell_type": "markdown",
   "id": "reported-detective",
   "metadata": {},
   "source": [
    "### 2D visualisation of comparison iFlow - iVAE"
   ]
  },
  {
   "cell_type": "code",
   "execution_count": null,
   "id": "quarterly-presence",
   "metadata": {},
   "outputs": [],
   "source": [
    "from plots import create_2D_performance_plot\n",
    "comparison_1, comparison_2 = get_best_model_pairs(iFlow_vis_folder, iVAE_vis_folder)\n",
    "\n",
    "\n",
    "create_2D_performance_plot(comparison_1[0], comparison_1[2], comparison_1[1])"
   ]
  },
  {
   "cell_type": "markdown",
   "id": "meaningful-health",
   "metadata": {},
   "source": [
    "### 2D visualisation of comparison iFlow - fixed iVAE"
   ]
  },
  {
   "cell_type": "code",
   "execution_count": null,
   "id": "requested-david",
   "metadata": {},
   "outputs": [],
   "source": [
    "from plots import create_2D_performance_plot\n",
    "comparison_1, comparison_2 = get_best_model_pairs(iFlow_vis_folder, iVAE_FIXED_vis_folder)\n",
    "\n",
    "\n",
    "create_2D_performance_plot(comparison_1[0], comparison_1[2], comparison_1[1])"
   ]
  },
  {
   "cell_type": "markdown",
   "id": "amazing-istanbul",
   "metadata": {},
   "source": [
    "# Additional visualization"
   ]
  },
  {
   "cell_type": "code",
   "execution_count": null,
   "id": "pleasant-armstrong",
   "metadata": {},
   "outputs": [],
   "source": [
    "from numpy import corrcoef\n",
    "from plots import *\n",
    "\n",
    "for experiment in experiments:\n",
    "    experiment.get_final_attribute(\"dataset_difficulty\")\n",
    "\n",
    "mcc_ax, vals = plot_attribute(experiments, \"final_performance\")\n",
    "ax, vals2 = plot_attribute(experiments, \"dataset_difficulty\", mcc_ax)\n",
    "\n",
    "print(\"correlation:\", np.corrcoef(vals[1][0], vals2[1][0])[1, 0])\n",
    "print(\"correlation:\", np.corrcoef(vals[1][1], vals2[1][1])[1, 0])\n",
    "print(\"correlation:\", np.corrcoef(vals[1][2], vals2[1][2])[1, 0])\n",
    "\n",
    "plt.show()"
   ]
  },
  {
   "cell_type": "code",
   "execution_count": null,
   "id": "prepared-specific",
   "metadata": {},
   "outputs": [],
   "source": []
  }
 ],
 "metadata": {
  "kernelspec": {
   "display_name": "Python 3",
   "language": "python",
   "name": "python3"
  },
  "language_info": {
   "codemirror_mode": {
    "name": "ipython",
    "version": 3
   },
   "file_extension": ".py",
   "mimetype": "text/x-python",
   "name": "python",
   "nbconvert_exporter": "python",
   "pygments_lexer": "ipython3",
   "version": "3.7.9"
  }
 },
 "nbformat": 4,
 "nbformat_minor": 5
}
